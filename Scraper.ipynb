{
 "cells": [
  {
   "cell_type": "code",
   "execution_count": null,
   "metadata": {},
   "outputs": [],
   "source": [
    "# %config IPCompleter.use_jedi = False"
   ]
  },
  {
   "cell_type": "markdown",
   "metadata": {},
   "source": [
    "# Import Required Libraries"
   ]
  },
  {
   "cell_type": "code",
   "execution_count": null,
   "metadata": {},
   "outputs": [],
   "source": [
    "import sys\n",
    "import requests \n",
    "from bs4 import BeautifulSoup\n",
    "import pandas as pd\n",
    "import os, pathlib\n",
    "import wget"
   ]
  },
  {
   "cell_type": "markdown",
   "metadata": {},
   "source": [
    "## Input the URL and remove any trailing '/' "
   ]
  },
  {
   "cell_type": "code",
   "execution_count": null,
   "metadata": {},
   "outputs": [],
   "source": [
    "# URL = 'https://boards.4channel.org/w/thread/2099866' # Example\n",
    "URL = input(\"Enter 4chan thread link: \")\n",
    "while(URL[-1] == '/'):\n",
    "    URL = URL[:-1]"
   ]
  },
  {
   "cell_type": "markdown",
   "metadata": {},
   "source": [
    "## Retrieve the URL Page"
   ]
  },
  {
   "cell_type": "code",
   "execution_count": null,
   "metadata": {},
   "outputs": [],
   "source": [
    "r = requests.get(URL) "
   ]
  },
  {
   "cell_type": "markdown",
   "metadata": {},
   "source": [
    "## Parse to HTML"
   ]
  },
  {
   "cell_type": "code",
   "execution_count": null,
   "metadata": {},
   "outputs": [],
   "source": [
    "soup = BeautifulSoup(r.content, \"html5lib\")\n",
    "# print(soup.prettify())"
   ]
  },
  {
   "cell_type": "markdown",
   "metadata": {},
   "source": [
    "## Traverse HTML tree to get:\n",
    "* Thread Title (Dirty Solution)\n",
    "* Links to high-res posts"
   ]
  },
  {
   "cell_type": "code",
   "execution_count": null,
   "metadata": {},
   "outputs": [],
   "source": [
    "thread = soup.find('div', attrs={'class':\"thread\"})\n",
    "# print(thread.prettify())"
   ]
  },
  {
   "cell_type": "code",
   "execution_count": null,
   "metadata": {},
   "outputs": [],
   "source": [
    "titleHTML = thread.find('blockquote')\n",
    "title = str(titleHTML.contents[0]).replace(\" \",'_')\n",
    "print(title)"
   ]
  },
  {
   "cell_type": "code",
   "execution_count": null,
   "metadata": {},
   "outputs": [],
   "source": [
    "fileText = thread.findAll('div', attrs={'class':'fileText'})"
   ]
  },
  {
   "cell_type": "code",
   "execution_count": null,
   "metadata": {},
   "outputs": [],
   "source": [
    "imgList = [\"https:\"+each.a['href'] for each in fileText]"
   ]
  },
  {
   "cell_type": "code",
   "execution_count": null,
   "metadata": {},
   "outputs": [],
   "source": [
    "fileList = [each[each.rfind('/')+1:] for each in imgList]"
   ]
  },
  {
   "cell_type": "markdown",
   "metadata": {},
   "source": [
    "## Combine Links and their respective FileNames into a DataFrame"
   ]
  },
  {
   "cell_type": "code",
   "execution_count": null,
   "metadata": {},
   "outputs": [],
   "source": [
    "df = pd.DataFrame(data=zip(imgList, fileList), columns=[\"URL\",\"FileName\"])\n",
    "df.head()"
   ]
  },
  {
   "cell_type": "markdown",
   "metadata": {},
   "source": [
    "# Create Local Folder Structure"
   ]
  },
  {
   "cell_type": "markdown",
   "metadata": {},
   "source": [
    "```\n",
    "../current_directory  \n",
    "    /Scrapper.ipynb\n",
    "    /Posts\n",
    "        /board \n",
    "            /thread  \n",
    "                /post1.jpg  \n",
    "                /post2.jpg  \n",
    "                /post3.jpg  \n",
    "                .  \n",
    "                .  \n",
    "                .  \n",
    "```"
   ]
  },
  {
   "cell_type": "code",
   "execution_count": null,
   "metadata": {},
   "outputs": [],
   "source": [
    "def getBoard(url):\n",
    "    temp = url[:url.rfind('/')]\n",
    "    end = temp[:temp.rfind('/')]\n",
    "    start = end[end.rfind('/')+1:]\n",
    "    return start\n",
    "def getThread(url):\n",
    "    return url[url.rfind('/')+1:]"
   ]
  },
  {
   "cell_type": "code",
   "execution_count": null,
   "metadata": {},
   "outputs": [],
   "source": [
    "rootFolder = os.path.join(os.getcwd(), \"Posts\")"
   ]
  },
  {
   "cell_type": "markdown",
   "metadata": {},
   "source": [
    "## Create Folders if they don't exist"
   ]
  },
  {
   "cell_type": "code",
   "execution_count": null,
   "metadata": {},
   "outputs": [],
   "source": [
    "boardFolder = os.path.join(rootFolder, getBoard(URL))\n",
    "if not os.path.exists(boardFolder):\n",
    "    os.mkdir(boardFolder)\n",
    "print(getBoard(URL))"
   ]
  },
  {
   "cell_type": "code",
   "execution_count": null,
   "metadata": {},
   "outputs": [],
   "source": [
    "threadFolder = os.path.join(boardFolder, getThread(URL))\n",
    "if not os.path.exists(threadFolder):\n",
    "    os.mkdir(threadFolder)\n",
    "print(getThread(URL))"
   ]
  },
  {
   "cell_type": "markdown",
   "metadata": {},
   "source": [
    "## Create a file whose names if the first line of the first post of the thread.  \n",
    "### Often the description.\n",
    "### Name starts with '__' so it's the first file you see when you browse via an explorer."
   ]
  },
  {
   "cell_type": "code",
   "execution_count": null,
   "metadata": {},
   "outputs": [],
   "source": [
    "pathlib.Path(os.path.join(threadFolder, (\"__\"+title))).touch()"
   ]
  },
  {
   "cell_type": "markdown",
   "metadata": {},
   "source": [
    "# Files are Downloaded"
   ]
  },
  {
   "cell_type": "code",
   "execution_count": null,
   "metadata": {},
   "outputs": [],
   "source": [
    "for index, row in df.iterrows():\n",
    "    filePath = os.path.join(threadFolder, row['FileName'])\n",
    "    url = row['URL']\n",
    "    print(\"Downloading %s to %s\"%(url, filePath), end='.')\n",
    "    wget.download(url ,filePath)\n",
    "    print(\" Downloaded!\")"
   ]
  }
 ],
 "metadata": {
  "kernelspec": {
   "display_name": "Python 3",
   "language": "python",
   "name": "python3"
  },
  "language_info": {
   "codemirror_mode": {
    "name": "ipython",
    "version": 3
   },
   "file_extension": ".py",
   "mimetype": "text/x-python",
   "name": "python",
   "nbconvert_exporter": "python",
   "pygments_lexer": "ipython3",
   "version": "3.8.5"
  }
 },
 "nbformat": 4,
 "nbformat_minor": 4
}
